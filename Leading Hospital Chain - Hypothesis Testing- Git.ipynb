{
 "cells": [
  {
   "cell_type": "markdown",
   "id": "07d83080",
   "metadata": {},
   "source": [
    "### Problem Statement"
   ]
  },
  {
   "cell_type": "markdown",
   "id": "9105a39c",
   "metadata": {},
   "source": [
    "### The client is an Indian multinational healthcare group. Along with the eponymous hospital chain, the company also operates pharmacies, primary care and diagnostic centres, telehealth clinics, and digital healthcare services among others through its subsidiaries\n",
    "\n",
    "### The goal of this analysis is to highlight the factors that play an important role in determining the hospitalization charges, viral load etc. for a patient. This helps in faster assessments of infection spread and better predict need for financial help."
   ]
  },
  {
   "cell_type": "code",
   "execution_count": 65,
   "id": "335334cf",
   "metadata": {},
   "outputs": [],
   "source": [
    "# Importing necessary libraries\n",
    "import numpy as np\n",
    "import pandas as pd\n",
    "import matplotlib.pyplot as plt\n",
    "import seaborn as sns\n",
    "\n",
    "from scipy.stats import ttest_ind\n",
    "from scipy.stats import chi2_contingency\n",
    "from scipy.stats import f_oneway\n",
    "from scipy.stats import kstest"
   ]
  },
  {
   "cell_type": "code",
   "execution_count": 2,
   "id": "a2f89fed",
   "metadata": {},
   "outputs": [],
   "source": [
    "# Importing the dataset and creating a Pandas Dataframe\n",
    "df=pd.read_csv('https://d2beiqkhq929f0.cloudfront.net/public_assets/assets/000/001/681/original/scaler_apollo_hospitals.csv')"
   ]
  },
  {
   "cell_type": "code",
   "execution_count": 3,
   "id": "a260180e",
   "metadata": {},
   "outputs": [
    {
     "data": {
      "text/html": [
       "<div>\n",
       "<style scoped>\n",
       "    .dataframe tbody tr th:only-of-type {\n",
       "        vertical-align: middle;\n",
       "    }\n",
       "\n",
       "    .dataframe tbody tr th {\n",
       "        vertical-align: top;\n",
       "    }\n",
       "\n",
       "    .dataframe thead th {\n",
       "        text-align: right;\n",
       "    }\n",
       "</style>\n",
       "<table border=\"1\" class=\"dataframe\">\n",
       "  <thead>\n",
       "    <tr style=\"text-align: right;\">\n",
       "      <th></th>\n",
       "      <th>Unnamed: 0</th>\n",
       "      <th>age</th>\n",
       "      <th>sex</th>\n",
       "      <th>smoker</th>\n",
       "      <th>region</th>\n",
       "      <th>viral load</th>\n",
       "      <th>severity level</th>\n",
       "      <th>hospitalization charges</th>\n",
       "    </tr>\n",
       "  </thead>\n",
       "  <tbody>\n",
       "    <tr>\n",
       "      <th>0</th>\n",
       "      <td>0</td>\n",
       "      <td>19</td>\n",
       "      <td>female</td>\n",
       "      <td>yes</td>\n",
       "      <td>southwest</td>\n",
       "      <td>9.30</td>\n",
       "      <td>0</td>\n",
       "      <td>42212</td>\n",
       "    </tr>\n",
       "    <tr>\n",
       "      <th>1</th>\n",
       "      <td>1</td>\n",
       "      <td>18</td>\n",
       "      <td>male</td>\n",
       "      <td>no</td>\n",
       "      <td>southeast</td>\n",
       "      <td>11.26</td>\n",
       "      <td>1</td>\n",
       "      <td>4314</td>\n",
       "    </tr>\n",
       "    <tr>\n",
       "      <th>2</th>\n",
       "      <td>2</td>\n",
       "      <td>28</td>\n",
       "      <td>male</td>\n",
       "      <td>no</td>\n",
       "      <td>southeast</td>\n",
       "      <td>11.00</td>\n",
       "      <td>3</td>\n",
       "      <td>11124</td>\n",
       "    </tr>\n",
       "    <tr>\n",
       "      <th>3</th>\n",
       "      <td>3</td>\n",
       "      <td>33</td>\n",
       "      <td>male</td>\n",
       "      <td>no</td>\n",
       "      <td>northwest</td>\n",
       "      <td>7.57</td>\n",
       "      <td>0</td>\n",
       "      <td>54961</td>\n",
       "    </tr>\n",
       "    <tr>\n",
       "      <th>4</th>\n",
       "      <td>4</td>\n",
       "      <td>32</td>\n",
       "      <td>male</td>\n",
       "      <td>no</td>\n",
       "      <td>northwest</td>\n",
       "      <td>9.63</td>\n",
       "      <td>0</td>\n",
       "      <td>9667</td>\n",
       "    </tr>\n",
       "  </tbody>\n",
       "</table>\n",
       "</div>"
      ],
      "text/plain": [
       "   Unnamed: 0  age     sex smoker     region  viral load  severity level  \\\n",
       "0           0   19  female    yes  southwest        9.30               0   \n",
       "1           1   18    male     no  southeast       11.26               1   \n",
       "2           2   28    male     no  southeast       11.00               3   \n",
       "3           3   33    male     no  northwest        7.57               0   \n",
       "4           4   32    male     no  northwest        9.63               0   \n",
       "\n",
       "   hospitalization charges  \n",
       "0                    42212  \n",
       "1                     4314  \n",
       "2                    11124  \n",
       "3                    54961  \n",
       "4                     9667  "
      ]
     },
     "execution_count": 3,
     "metadata": {},
     "output_type": "execute_result"
    }
   ],
   "source": [
    "# Printing the first 5 rows of the Dataframe\n",
    "df.head()"
   ]
  },
  {
   "cell_type": "markdown",
   "id": "1fde73f1",
   "metadata": {},
   "source": [
    "### 1. Exploratory Data Analysis"
   ]
  },
  {
   "cell_type": "markdown",
   "id": "4d90d723",
   "metadata": {},
   "source": [
    "### 1.1 Primary Analysis"
   ]
  },
  {
   "cell_type": "code",
   "execution_count": 8,
   "id": "6504c792",
   "metadata": {},
   "outputs": [
    {
     "data": {
      "text/plain": [
       "(1338, 8)"
      ]
     },
     "execution_count": 8,
     "metadata": {},
     "output_type": "execute_result"
    }
   ],
   "source": [
    "# Shape of the dataset\n",
    "df.shape"
   ]
  },
  {
   "cell_type": "code",
   "execution_count": 9,
   "id": "5cf5b98f",
   "metadata": {},
   "outputs": [
    {
     "name": "stdout",
     "output_type": "stream",
     "text": [
      "<class 'pandas.core.frame.DataFrame'>\n",
      "RangeIndex: 1338 entries, 0 to 1337\n",
      "Data columns (total 8 columns):\n",
      " #   Column                   Non-Null Count  Dtype  \n",
      "---  ------                   --------------  -----  \n",
      " 0   Unnamed: 0               1338 non-null   int64  \n",
      " 1   age                      1338 non-null   int64  \n",
      " 2   sex                      1338 non-null   object \n",
      " 3   smoker                   1338 non-null   object \n",
      " 4   region                   1338 non-null   object \n",
      " 5   viral load               1338 non-null   float64\n",
      " 6   severity level           1338 non-null   int64  \n",
      " 7   hospitalization charges  1338 non-null   int64  \n",
      "dtypes: float64(1), int64(4), object(3)\n",
      "memory usage: 83.8+ KB\n"
     ]
    }
   ],
   "source": [
    "# Summary of columns and datatypes\n",
    "df.info()"
   ]
  },
  {
   "cell_type": "code",
   "execution_count": 11,
   "id": "3db1e0fe",
   "metadata": {},
   "outputs": [
    {
     "data": {
      "text/html": [
       "<div>\n",
       "<style scoped>\n",
       "    .dataframe tbody tr th:only-of-type {\n",
       "        vertical-align: middle;\n",
       "    }\n",
       "\n",
       "    .dataframe tbody tr th {\n",
       "        vertical-align: top;\n",
       "    }\n",
       "\n",
       "    .dataframe thead th {\n",
       "        text-align: right;\n",
       "    }\n",
       "</style>\n",
       "<table border=\"1\" class=\"dataframe\">\n",
       "  <thead>\n",
       "    <tr style=\"text-align: right;\">\n",
       "      <th></th>\n",
       "      <th>age</th>\n",
       "      <th>sex</th>\n",
       "      <th>smoker</th>\n",
       "      <th>region</th>\n",
       "      <th>viral load</th>\n",
       "      <th>severity level</th>\n",
       "      <th>hospitalization charges</th>\n",
       "    </tr>\n",
       "  </thead>\n",
       "  <tbody>\n",
       "    <tr>\n",
       "      <th>0</th>\n",
       "      <td>19</td>\n",
       "      <td>female</td>\n",
       "      <td>yes</td>\n",
       "      <td>southwest</td>\n",
       "      <td>9.30</td>\n",
       "      <td>0</td>\n",
       "      <td>42212</td>\n",
       "    </tr>\n",
       "    <tr>\n",
       "      <th>1</th>\n",
       "      <td>18</td>\n",
       "      <td>male</td>\n",
       "      <td>no</td>\n",
       "      <td>southeast</td>\n",
       "      <td>11.26</td>\n",
       "      <td>1</td>\n",
       "      <td>4314</td>\n",
       "    </tr>\n",
       "    <tr>\n",
       "      <th>2</th>\n",
       "      <td>28</td>\n",
       "      <td>male</td>\n",
       "      <td>no</td>\n",
       "      <td>southeast</td>\n",
       "      <td>11.00</td>\n",
       "      <td>3</td>\n",
       "      <td>11124</td>\n",
       "    </tr>\n",
       "    <tr>\n",
       "      <th>3</th>\n",
       "      <td>33</td>\n",
       "      <td>male</td>\n",
       "      <td>no</td>\n",
       "      <td>northwest</td>\n",
       "      <td>7.57</td>\n",
       "      <td>0</td>\n",
       "      <td>54961</td>\n",
       "    </tr>\n",
       "    <tr>\n",
       "      <th>4</th>\n",
       "      <td>32</td>\n",
       "      <td>male</td>\n",
       "      <td>no</td>\n",
       "      <td>northwest</td>\n",
       "      <td>9.63</td>\n",
       "      <td>0</td>\n",
       "      <td>9667</td>\n",
       "    </tr>\n",
       "  </tbody>\n",
       "</table>\n",
       "</div>"
      ],
      "text/plain": [
       "   age     sex smoker     region  viral load  severity level  \\\n",
       "0   19  female    yes  southwest        9.30               0   \n",
       "1   18    male     no  southeast       11.26               1   \n",
       "2   28    male     no  southeast       11.00               3   \n",
       "3   33    male     no  northwest        7.57               0   \n",
       "4   32    male     no  northwest        9.63               0   \n",
       "\n",
       "   hospitalization charges  \n",
       "0                    42212  \n",
       "1                     4314  \n",
       "2                    11124  \n",
       "3                    54961  \n",
       "4                     9667  "
      ]
     },
     "execution_count": 11,
     "metadata": {},
     "output_type": "execute_result"
    }
   ],
   "source": [
    "# Dropping unwanted columns\n",
    "df.drop(columns='Unnamed: 0',inplace=True)\n",
    "df.head()"
   ]
  },
  {
   "cell_type": "code",
   "execution_count": 12,
   "id": "ac918fdc",
   "metadata": {},
   "outputs": [
    {
     "data": {
      "text/html": [
       "<div>\n",
       "<style scoped>\n",
       "    .dataframe tbody tr th:only-of-type {\n",
       "        vertical-align: middle;\n",
       "    }\n",
       "\n",
       "    .dataframe tbody tr th {\n",
       "        vertical-align: top;\n",
       "    }\n",
       "\n",
       "    .dataframe thead th {\n",
       "        text-align: right;\n",
       "    }\n",
       "</style>\n",
       "<table border=\"1\" class=\"dataframe\">\n",
       "  <thead>\n",
       "    <tr style=\"text-align: right;\">\n",
       "      <th></th>\n",
       "      <th>age</th>\n",
       "      <th>viral load</th>\n",
       "      <th>severity level</th>\n",
       "      <th>hospitalization charges</th>\n",
       "    </tr>\n",
       "  </thead>\n",
       "  <tbody>\n",
       "    <tr>\n",
       "      <th>count</th>\n",
       "      <td>1338.000000</td>\n",
       "      <td>1338.000000</td>\n",
       "      <td>1338.000000</td>\n",
       "      <td>1338.000000</td>\n",
       "    </tr>\n",
       "    <tr>\n",
       "      <th>mean</th>\n",
       "      <td>39.207025</td>\n",
       "      <td>10.221233</td>\n",
       "      <td>1.094918</td>\n",
       "      <td>33176.058296</td>\n",
       "    </tr>\n",
       "    <tr>\n",
       "      <th>std</th>\n",
       "      <td>14.049960</td>\n",
       "      <td>2.032796</td>\n",
       "      <td>1.205493</td>\n",
       "      <td>30275.029296</td>\n",
       "    </tr>\n",
       "    <tr>\n",
       "      <th>min</th>\n",
       "      <td>18.000000</td>\n",
       "      <td>5.320000</td>\n",
       "      <td>0.000000</td>\n",
       "      <td>2805.000000</td>\n",
       "    </tr>\n",
       "    <tr>\n",
       "      <th>25%</th>\n",
       "      <td>27.000000</td>\n",
       "      <td>8.762500</td>\n",
       "      <td>0.000000</td>\n",
       "      <td>11851.000000</td>\n",
       "    </tr>\n",
       "    <tr>\n",
       "      <th>50%</th>\n",
       "      <td>39.000000</td>\n",
       "      <td>10.130000</td>\n",
       "      <td>1.000000</td>\n",
       "      <td>23455.000000</td>\n",
       "    </tr>\n",
       "    <tr>\n",
       "      <th>75%</th>\n",
       "      <td>51.000000</td>\n",
       "      <td>11.567500</td>\n",
       "      <td>2.000000</td>\n",
       "      <td>41599.500000</td>\n",
       "    </tr>\n",
       "    <tr>\n",
       "      <th>max</th>\n",
       "      <td>64.000000</td>\n",
       "      <td>17.710000</td>\n",
       "      <td>5.000000</td>\n",
       "      <td>159426.000000</td>\n",
       "    </tr>\n",
       "  </tbody>\n",
       "</table>\n",
       "</div>"
      ],
      "text/plain": [
       "               age   viral load  severity level  hospitalization charges\n",
       "count  1338.000000  1338.000000     1338.000000              1338.000000\n",
       "mean     39.207025    10.221233        1.094918             33176.058296\n",
       "std      14.049960     2.032796        1.205493             30275.029296\n",
       "min      18.000000     5.320000        0.000000              2805.000000\n",
       "25%      27.000000     8.762500        0.000000             11851.000000\n",
       "50%      39.000000    10.130000        1.000000             23455.000000\n",
       "75%      51.000000    11.567500        2.000000             41599.500000\n",
       "max      64.000000    17.710000        5.000000            159426.000000"
      ]
     },
     "execution_count": 12,
     "metadata": {},
     "output_type": "execute_result"
    }
   ],
   "source": [
    "# Statistical Summary\n",
    "df.describe()"
   ]
  },
  {
   "cell_type": "code",
   "execution_count": 13,
   "id": "2c5ce587",
   "metadata": {},
   "outputs": [
    {
     "data": {
      "text/plain": [
       "age                          47\n",
       "sex                           2\n",
       "smoker                        2\n",
       "region                        4\n",
       "viral load                  462\n",
       "severity level                6\n",
       "hospitalization charges    1320\n",
       "dtype: int64"
      ]
     },
     "execution_count": 13,
     "metadata": {},
     "output_type": "execute_result"
    }
   ],
   "source": [
    "df.nunique()"
   ]
  },
  {
   "cell_type": "markdown",
   "id": "066bbd1a",
   "metadata": {},
   "source": [
    "### 1. The dataset has 1338 rows and 8 columns\n",
    "### 2. 4 columns are of integer data type, 1 of float data type and 3 of object datatype\n",
    "### 3. There are no missing values in any of the columns\n",
    "### 4. The statistical analysis gives the following insights\n",
    "###     4.1 The mean age of the patients in the dataset is 39 years with 75% of the sample below 52 years\n",
    "###     4.2 The mean viral load of the patients in 10.22 and the maximum values is 17.71\n",
    "###     4.3 75% of the patients had a severity level below 2 with the ranges being from 0 to 5\n",
    "###     4.4 The average hospitalization charges is Rs 33176. The maximum amount charged was Rs 159426 indicating a possibility of outliers in the columns\n",
    "### 5. Sex, Smoker, Region and Severity level are categorical variables"
   ]
  },
  {
   "cell_type": "markdown",
   "id": "c2d96ccc",
   "metadata": {},
   "source": [
    "### 1.2 Univariate Analysis"
   ]
  },
  {
   "cell_type": "code",
   "execution_count": 15,
   "id": "c3c03c32",
   "metadata": {},
   "outputs": [
    {
     "data": {
      "image/png": "[encoded data removed]",
      "text/plain": [
       "<Figure size 1152x864 with 4 Axes>"
      ]
     },
     "metadata": {
      "needs_background": "light"
     },
     "output_type": "display_data"
    }
   ],
   "source": [
    "# Countplots for all categorical variables\n",
    "fig,axis=plt.subplots(nrows=2,ncols=2,figsize=(16,12))\n",
    "cols=['sex','smoker','region','severity level']\n",
    "index=0\n",
    "for i in range(2):\n",
    "    for j in range(2):\n",
    "        sns.countplot(data=df,x=df[cols[index]],ax=axis[i,j])\n",
    "        index+=1\n",
    "plt.show()"
   ]
  },
  {
   "cell_type": "markdown",
   "id": "a76ca03f",
   "metadata": {},
   "source": [
    "### 1. The dataset includes a slightly more number of males than females.\n",
    "### 2. The number of non smokers is significantly higher than smokers\n",
    "### 3. The southeast region has more number of patients with the remaining almost equally split across the other regions\n",
    "### 4. There are very few patients with high severity levels of 4 and 5"
   ]
  },
  {
   "cell_type": "code",
   "execution_count": 31,
   "id": "20360f71",
   "metadata": {},
   "outputs": [
    {
     "data": {
      "image/png": "[encoded data removed]",
      "text/plain": [
       "<Figure size 432x288 with 1 Axes>"
      ]
     },
     "metadata": {
      "needs_background": "light"
     },
     "output_type": "display_data"
    },
    {
     "data": {
      "image/png": "[encoded data removed]",
      "text/plain": [
       "<Figure size 432x288 with 1 Axes>"
      ]
     },
     "metadata": {
      "needs_background": "light"
     },
     "output_type": "display_data"
    }
   ],
   "source": [
    "# Boxplots for all categorical variables\n",
    "cols=['viral load','hospitalization charges']\n",
    "index=0\n",
    "for i in cols:\n",
    "        sns.boxplot(data=df,x=df[cols[index]])\n",
    "        index+=1\n",
    "        plt.show()"
   ]
  },
  {
   "cell_type": "markdown",
   "id": "c3c80e8d",
   "metadata": {},
   "source": [
    "### There are outliers in both viral load and hospitalization charges"
   ]
  },
  {
   "cell_type": "code",
   "execution_count": 36,
   "id": "7a271b68",
   "metadata": {},
   "outputs": [
    {
     "data": {
      "text/plain": [
       "<AxesSubplot:xlabel='age', ylabel='Count'>"
      ]
     },
     "execution_count": 36,
     "metadata": {},
     "output_type": "execute_result"
    },
    {
     "data": {
      "image/png": "[encoded data removed]",
      "text/plain": [
       "<Figure size 432x288 with 1 Axes>"
      ]
     },
     "metadata": {
      "needs_background": "light"
     },
     "output_type": "display_data"
    }
   ],
   "source": [
    "sns.histplot(data=df,x=df['age'],bins=[0,20,40,50,60,70])"
   ]
  },
  {
   "cell_type": "markdown",
   "id": "f5a134a2",
   "metadata": {},
   "source": [
    "### Most patients are in the age range between 20-40. There are fewer children and senior citizens"
   ]
  },
  {
   "cell_type": "markdown",
   "id": "82df7a81",
   "metadata": {},
   "source": [
    "### 1.3. Bivariate Analysis"
   ]
  },
  {
   "cell_type": "markdown",
   "id": "8087b714",
   "metadata": {},
   "source": [
    "### 1. Age vs Other factors"
   ]
  },
  {
   "cell_type": "code",
   "execution_count": 38,
   "id": "bdcf17ee",
   "metadata": {},
   "outputs": [
    {
     "data": {
      "image/png": "[encoded data removed]",
      "text/plain": [
       "<Figure size 1152x864 with 4 Axes>"
      ]
     },
     "metadata": {
      "needs_background": "light"
     },
     "output_type": "display_data"
    }
   ],
   "source": [
    "# Countplots for comparing age with other categorical factors\n",
    "fig,axis=plt.subplots(nrows=2,ncols=2,figsize=(16,12))\n",
    "cols=['sex','severity level','smoker','region']\n",
    "index=0\n",
    "for i in range(2):\n",
    "    for j in range(2):\n",
    "        sns.histplot(data=df,hue=df[cols[index]],x=df['age'],ax=axis[i,j],bins=[0,20,40,50,60,70],multiple='dodge')\n",
    "        index+=1\n",
    "plt.show()"
   ]
  },
  {
   "cell_type": "markdown",
   "id": "e375f4ab",
   "metadata": {},
   "source": [
    "### The patients in age group 40 - 50 seem to have a slightly higher severity level. The other patterns are consistent across age groups as seen in the univariate analysis."
   ]
  },
  {
   "cell_type": "markdown",
   "id": "36228da1",
   "metadata": {},
   "source": [
    "### 2. Sex vs Other factors"
   ]
  },
  {
   "cell_type": "code",
   "execution_count": 50,
   "id": "0ca8260d",
   "metadata": {},
   "outputs": [
    {
     "data": {
      "image/png": "[encoded data removed]",
      "text/plain": [
       "<Figure size 432x288 with 1 Axes>"
      ]
     },
     "metadata": {
      "needs_background": "light"
     },
     "output_type": "display_data"
    },
    {
     "data": {
      "image/png": "[encoded data removed]",
      "text/plain": [
       "<Figure size 432x288 with 1 Axes>"
      ]
     },
     "metadata": {
      "needs_background": "light"
     },
     "output_type": "display_data"
    },
    {
     "data": {
      "image/png": "[encoded data removed]",
      "text/plain": [
       "<Figure size 432x288 with 1 Axes>"
      ]
     },
     "metadata": {
      "needs_background": "light"
     },
     "output_type": "display_data"
    }
   ],
   "source": [
    "# Countplots for comparing sex with other categorical factors\n",
    "cols=['severity level','smoker','region']\n",
    "for i in cols:\n",
    "        sns.countplot(data=df,hue=df[i],x=df['sex'],dodge=True)\n",
    "        plt.show()"
   ]
  },
  {
   "cell_type": "markdown",
   "id": "4c8e2175",
   "metadata": {},
   "source": [
    "### The patterns are consistent across males and females as seen in the univariate analysis."
   ]
  },
  {
   "cell_type": "code",
   "execution_count": 96,
   "id": "d8fa2a76",
   "metadata": {},
   "outputs": [
    {
     "data": {
      "image/png": "[encoded data removed]",
      "text/plain": [
       "<Figure size 432x288 with 1 Axes>"
      ]
     },
     "metadata": {
      "needs_background": "light"
     },
     "output_type": "display_data"
    },
    {
     "data": {
      "image/png": "[encoded data removed]",
      "text/plain": [
       "<Figure size 432x288 with 1 Axes>"
      ]
     },
     "metadata": {
      "needs_background": "light"
     },
     "output_type": "display_data"
    }
   ],
   "source": [
    "# Countplots for comparing sex with other continous factors\n",
    "cols=['viral load','hospitalization charges']\n",
    "for i in cols:\n",
    "        sns.boxplot(data=df,x=df[i],y=df['sex'])\n",
    "        plt.show()"
   ]
  },
  {
   "cell_type": "markdown",
   "id": "be321f4a",
   "metadata": {},
   "source": [
    "### The median viral load is slightly higher for males \n",
    "### The median hospitalization charges are almost similar for both males and females"
   ]
  },
  {
   "cell_type": "markdown",
   "id": "4a6729e5",
   "metadata": {},
   "source": [
    "### 3. Severity level vs Other factors"
   ]
  },
  {
   "cell_type": "code",
   "execution_count": 51,
   "id": "a0a2c6d9",
   "metadata": {},
   "outputs": [
    {
     "data": {
      "image/png": "[encoded data removed]",
      "text/plain": [
       "<Figure size 432x288 with 1 Axes>"
      ]
     },
     "metadata": {
      "needs_background": "light"
     },
     "output_type": "display_data"
    },
    {
     "data": {
      "image/png": "[encoded data removed]",
      "text/plain": [
       "<Figure size 432x288 with 1 Axes>"
      ]
     },
     "metadata": {
      "needs_background": "light"
     },
     "output_type": "display_data"
    }
   ],
   "source": [
    "# Countplots for comparing severity level with other categorical factors\n",
    "cols=['smoker','region']\n",
    "for i in cols:\n",
    "        sns.countplot(data=df,hue=df[i],x=df['severity level'],dodge=True)\n",
    "        plt.show()"
   ]
  },
  {
   "cell_type": "markdown",
   "id": "4f6539e1",
   "metadata": {},
   "source": [
    "### The patterns are consistent across severity levels as seen in the univariate analysis."
   ]
  },
  {
   "cell_type": "code",
   "execution_count": 54,
   "id": "8487d06f",
   "metadata": {},
   "outputs": [
    {
     "data": {
      "image/png": "[encoded data removed]",
      "text/plain": [
       "<Figure size 432x288 with 1 Axes>"
      ]
     },
     "metadata": {
      "needs_background": "light"
     },
     "output_type": "display_data"
    },
    {
     "data": {
      "image/png": "[encoded data removed]",
      "text/plain": [
       "<Figure size 432x288 with 1 Axes>"
      ]
     },
     "metadata": {
      "needs_background": "light"
     },
     "output_type": "display_data"
    }
   ],
   "source": [
    "# Countplots for comparing severity level with other continous factors\n",
    "cols=['viral load','hospitalization charges']\n",
    "for i in cols:\n",
    "        sns.boxplot(data=df,y=df[i],x=df['severity level'])\n",
    "        plt.show()"
   ]
  },
  {
   "cell_type": "markdown",
   "id": "e64388ab",
   "metadata": {},
   "source": [
    "### The viral load is highest for severity level 2. Hospitalization charges are highest for severity level 4 followed by 0 and 3"
   ]
  },
  {
   "cell_type": "markdown",
   "id": "e4a86edc",
   "metadata": {},
   "source": [
    "### 4. Smoker vs Other factors"
   ]
  },
  {
   "cell_type": "code",
   "execution_count": 55,
   "id": "08da23f6",
   "metadata": {},
   "outputs": [
    {
     "data": {
      "text/plain": [
       "<AxesSubplot:xlabel='smoker', ylabel='count'>"
      ]
     },
     "execution_count": 55,
     "metadata": {},
     "output_type": "execute_result"
    },
    {
     "data": {
      "image/png": "[encoded data removed]",
      "text/plain": [
       "<Figure size 432x288 with 1 Axes>"
      ]
     },
     "metadata": {
      "needs_background": "light"
     },
     "output_type": "display_data"
    }
   ],
   "source": [
    "# Countplots for comparing smoker with other categorical factors\n",
    "sns.countplot(data=df,hue=df['region'],x=df['smoker'],dodge=True)"
   ]
  },
  {
   "cell_type": "markdown",
   "id": "0be22afc",
   "metadata": {},
   "source": [
    "### The patterns of smoking are similar across regions"
   ]
  },
  {
   "cell_type": "code",
   "execution_count": 56,
   "id": "7a2d051f",
   "metadata": {},
   "outputs": [
    {
     "data": {
      "image/png": "[encoded data removed]",
      "text/plain": [
       "<Figure size 432x288 with 1 Axes>"
      ]
     },
     "metadata": {
      "needs_background": "light"
     },
     "output_type": "display_data"
    },
    {
     "data": {
      "image/png": "[encoded data removed]",
      "text/plain": [
       "<Figure size 432x288 with 1 Axes>"
      ]
     },
     "metadata": {
      "needs_background": "light"
     },
     "output_type": "display_data"
    }
   ],
   "source": [
    "# Countplots for comparing smoker with other continous factors\n",
    "cols=['viral load','hospitalization charges']\n",
    "for i in cols:\n",
    "        sns.boxplot(data=df,y=df[i],x=df['smoker'])\n",
    "        plt.show()"
   ]
  },
  {
   "cell_type": "markdown",
   "id": "84a90719",
   "metadata": {},
   "source": [
    "### The viral load is almost similar across both smokers and non smokers.\n",
    "### The hospitalization charges are significantly higher for smokers than non smokers"
   ]
  },
  {
   "cell_type": "markdown",
   "id": "7c2b117a",
   "metadata": {},
   "source": [
    "### 5. Correlation across continous variables"
   ]
  },
  {
   "cell_type": "code",
   "execution_count": 57,
   "id": "869640b1",
   "metadata": {},
   "outputs": [
    {
     "data": {
      "text/plain": [
       "<AxesSubplot:>"
      ]
     },
     "execution_count": 57,
     "metadata": {},
     "output_type": "execute_result"
    },
    {
     "data": {
      "image/png": "[encoded data removed]",
      "text/plain": [
       "<Figure size 720x720 with 2 Axes>"
      ]
     },
     "metadata": {
      "needs_background": "light"
     },
     "output_type": "display_data"
    }
   ],
   "source": [
    "plt.subplots(figsize=(10,10))\n",
    "sns.heatmap(df.corr(),annot=True)"
   ]
  },
  {
   "cell_type": "markdown",
   "id": "ee223c46",
   "metadata": {},
   "source": [
    "### We dont observe any major correlation between the continous variables apart from a weak positive correlation between age and hospitalization charges"
   ]
  },
  {
   "cell_type": "markdown",
   "id": "bfc340eb",
   "metadata": {},
   "source": [
    "### 1.5 Insights based on EDA"
   ]
  },
  {
   "cell_type": "markdown",
   "id": "f483f020",
   "metadata": {},
   "source": [
    "#### 1. The dataset includes a slightly more number of males than females.\n",
    "#### 2. The number of non smokers is significantly higher than smokers\n",
    "#### 3. The southeast region has more number of patients with the remaining almost equally split across the other regions\n",
    "#### 4. There are very few patients with high severity levels of 4 and 5\n",
    "#### 5. There are outliers in both viral load and hospitalization charges\n",
    "#### 6. Most patients are in the age range between 20-40. There are fewer children and senior citizens\n",
    "#### 7. The patients in age group 40 - 50 seem to have a slightly higher severity level. The other patterns are consistent across age groups as seen in the univariate analysis.\n",
    "#### 8. The median viral load is slightly higher for males \n",
    "#### 9. The median hospitalization charges are almost similar for both males and females\n",
    "#### 10. The viral load is highest for severity level 2. Hospitalization charges are highest for severity level 4 followed by 0 and 3\n",
    "#### 11. The viral load is almost similar across both smokers and non smokers.\n",
    "#### 12. The hospitalization charges are significantly higher for smokers than non smokers\n",
    "#### 13. We dont observe any major correlation between the continous variables apart from a weak positive correlation between age and hospitalization charges"
   ]
  },
  {
   "cell_type": "markdown",
   "id": "a605a08d",
   "metadata": {},
   "source": [
    "### 2. Missing Values and Outlier Treatment"
   ]
  },
  {
   "cell_type": "code",
   "execution_count": 59,
   "id": "49529c38",
   "metadata": {},
   "outputs": [
    {
     "data": {
      "text/plain": [
       "age                        0\n",
       "sex                        0\n",
       "smoker                     0\n",
       "region                     0\n",
       "viral load                 0\n",
       "severity level             0\n",
       "hospitalization charges    0\n",
       "dtype: int64"
      ]
     },
     "execution_count": 59,
     "metadata": {},
     "output_type": "execute_result"
    }
   ],
   "source": [
    "# Checking for missing values in each column\n",
    "df.isna().sum()"
   ]
  },
  {
   "cell_type": "markdown",
   "id": "9d94400c",
   "metadata": {},
   "source": [
    "### There are no missing values in any column of the dataset"
   ]
  },
  {
   "cell_type": "code",
   "execution_count": 60,
   "id": "77b68967",
   "metadata": {},
   "outputs": [],
   "source": [
    "# Handling outliers using IQR Method\n",
    "cols=['viral load','hospitalization charges']\n",
    "for i in cols:\n",
    "    q1=df[i].quantile(0.25)\n",
    "    q3=df[i].quantile(0.75)\n",
    "    IQR=q3-q1\n",
    "    df=df[(df[i]>(q1-1.5*IQR)) & (df[i]<(q3+1.5*IQR))]"
   ]
  },
  {
   "cell_type": "code",
   "execution_count": 62,
   "id": "36ebc61b",
   "metadata": {},
   "outputs": [
    {
     "data": {
      "text/html": [
       "<div>\n",
       "<style scoped>\n",
       "    .dataframe tbody tr th:only-of-type {\n",
       "        vertical-align: middle;\n",
       "    }\n",
       "\n",
       "    .dataframe tbody tr th {\n",
       "        vertical-align: top;\n",
       "    }\n",
       "\n",
       "    .dataframe thead th {\n",
       "        text-align: right;\n",
       "    }\n",
       "</style>\n",
       "<table border=\"1\" class=\"dataframe\">\n",
       "  <thead>\n",
       "    <tr style=\"text-align: right;\">\n",
       "      <th></th>\n",
       "      <th>age</th>\n",
       "      <th>viral load</th>\n",
       "      <th>severity level</th>\n",
       "      <th>hospitalization charges</th>\n",
       "    </tr>\n",
       "  </thead>\n",
       "  <tbody>\n",
       "    <tr>\n",
       "      <th>count</th>\n",
       "      <td>1191.000000</td>\n",
       "      <td>1191.000000</td>\n",
       "      <td>1191.000000</td>\n",
       "      <td>1191.000000</td>\n",
       "    </tr>\n",
       "    <tr>\n",
       "      <th>mean</th>\n",
       "      <td>39.010915</td>\n",
       "      <td>9.997960</td>\n",
       "      <td>1.087322</td>\n",
       "      <td>24752.761545</td>\n",
       "    </tr>\n",
       "    <tr>\n",
       "      <th>std</th>\n",
       "      <td>14.056634</td>\n",
       "      <td>1.956954</td>\n",
       "      <td>1.216455</td>\n",
       "      <td>17968.444708</td>\n",
       "    </tr>\n",
       "    <tr>\n",
       "      <th>min</th>\n",
       "      <td>18.000000</td>\n",
       "      <td>5.320000</td>\n",
       "      <td>0.000000</td>\n",
       "      <td>2805.000000</td>\n",
       "    </tr>\n",
       "    <tr>\n",
       "      <th>25%</th>\n",
       "      <td>26.000000</td>\n",
       "      <td>8.600000</td>\n",
       "      <td>0.000000</td>\n",
       "      <td>11022.000000</td>\n",
       "    </tr>\n",
       "    <tr>\n",
       "      <th>50%</th>\n",
       "      <td>39.000000</td>\n",
       "      <td>9.900000</td>\n",
       "      <td>1.000000</td>\n",
       "      <td>20868.000000</td>\n",
       "    </tr>\n",
       "    <tr>\n",
       "      <th>75%</th>\n",
       "      <td>51.000000</td>\n",
       "      <td>11.260000</td>\n",
       "      <td>2.000000</td>\n",
       "      <td>32384.000000</td>\n",
       "    </tr>\n",
       "    <tr>\n",
       "      <th>max</th>\n",
       "      <td>64.000000</td>\n",
       "      <td>15.580000</td>\n",
       "      <td>5.000000</td>\n",
       "      <td>85758.000000</td>\n",
       "    </tr>\n",
       "  </tbody>\n",
       "</table>\n",
       "</div>"
      ],
      "text/plain": [
       "               age   viral load  severity level  hospitalization charges\n",
       "count  1191.000000  1191.000000     1191.000000              1191.000000\n",
       "mean     39.010915     9.997960        1.087322             24752.761545\n",
       "std      14.056634     1.956954        1.216455             17968.444708\n",
       "min      18.000000     5.320000        0.000000              2805.000000\n",
       "25%      26.000000     8.600000        0.000000             11022.000000\n",
       "50%      39.000000     9.900000        1.000000             20868.000000\n",
       "75%      51.000000    11.260000        2.000000             32384.000000\n",
       "max      64.000000    15.580000        5.000000             85758.000000"
      ]
     },
     "execution_count": 62,
     "metadata": {},
     "output_type": "execute_result"
    }
   ],
   "source": [
    "# Checking updated statistics\n",
    "df.describe()"
   ]
  },
  {
   "cell_type": "markdown",
   "id": "b910a4d0",
   "metadata": {},
   "source": [
    "### 3. Hypothesis testing"
   ]
  },
  {
   "cell_type": "markdown",
   "id": "94305018",
   "metadata": {},
   "source": [
    "### 3.1 Testing if hospitalization charges of people who do smoking are greater than those who don't"
   ]
  },
  {
   "cell_type": "code",
   "execution_count": 64,
   "id": "ae00e168",
   "metadata": {},
   "outputs": [
    {
     "data": {
      "text/plain": [
       "<AxesSubplot:xlabel='smoker', ylabel='hospitalization charges'>"
      ]
     },
     "execution_count": 64,
     "metadata": {},
     "output_type": "execute_result"
    },
    {
     "data": {
      "image/png": "[encoded data removed]",
      "text/plain": [
       "<Figure size 432x288 with 1 Axes>"
      ]
     },
     "metadata": {
      "needs_background": "light"
     },
     "output_type": "display_data"
    }
   ],
   "source": [
    "# 1. Visual Analysis\n",
    "sns.boxplot(data=df,y=df['hospitalization charges'],x=df['smoker'])"
   ]
  },
  {
   "cell_type": "markdown",
   "id": "40e22084",
   "metadata": {},
   "source": [
    "### The hospitalization charges of smokers seems to be considerably higher than non smokers"
   ]
  },
  {
   "cell_type": "markdown",
   "id": "806f864e",
   "metadata": {},
   "source": [
    "#### 2. Hypothesis Formulation\n",
    "#### H0 : The mean Hospitalization charges is same for both smokers and non smokers\n",
    "#### Ha : The mean Hospitalization charges for smokers is higher than non smokers"
   ]
  },
  {
   "cell_type": "markdown",
   "id": "bb092b62",
   "metadata": {},
   "source": [
    "#### 3. Select the appropriate test\n",
    "#### We are comparing a categorical variable(Smoker) against a continous variable(Hospitalization Charges) and we have sample data\n",
    "#### So we will be using the 2 sample right tailed T-Test in this case"
   ]
  },
  {
   "cell_type": "markdown",
   "id": "c82e4c2a",
   "metadata": {},
   "source": [
    "#### 4. Check Test assumptions\n",
    "####   1. Data values are independent - True for this dataset\n",
    "####   2. Data is obtained from a random sample in the population - True for this dataset\n",
    "####   3. Data values are continous - Hospitalization charges is continous"
   ]
  },
  {
   "cell_type": "code",
   "execution_count": 67,
   "id": "0145ce83",
   "metadata": {},
   "outputs": [
    {
     "name": "stdout",
     "output_type": "stream",
     "text": [
      "0.8814887092277669 1.645756625594092e-111\n"
     ]
    }
   ],
   "source": [
    "# Check Test Assumptions\n",
    "# 4. Data is normally distributed\n",
    "# Since sample size is higher we will use KS test to check for normality\n",
    "#H0: Both the samples have similar distribution\n",
    "#Ha: Both the samples dont have similar distribution\n",
    "    \n",
    "hosp_smoker=df[df['smoker']=='yes']['hospitalization charges']\n",
    "hosp_nonsmoker=df[df['smoker']=='no']['hospitalization charges']\n",
    "ks_stat,p_value=kstest(hosp_smoker,hosp_nonsmoker)\n",
    "print(ks_stat,p_value)"
   ]
  },
  {
   "cell_type": "code",
   "execution_count": 95,
   "id": "ab08b77a",
   "metadata": {},
   "outputs": [
    {
     "data": {
      "image/png": "[encoded data removed]",
      "text/plain": [
       "<Figure size 432x288 with 1 Axes>"
      ]
     },
     "metadata": {
      "needs_background": "light"
     },
     "output_type": "display_data"
    },
    {
     "data": {
      "image/png": "[encoded data removed]",
      "text/plain": [
       "<Figure size 432x288 with 1 Axes>"
      ]
     },
     "metadata": {
      "needs_background": "light"
     },
     "output_type": "display_data"
    }
   ],
   "source": [
    "sns.histplot(hosp_smoker,bins=30)\n",
    "plt.show()\n",
    "\n",
    "sns.histplot(hosp_nonsmoker,bins=30)\n",
    "plt.show()"
   ]
  },
  {
   "cell_type": "markdown",
   "id": "e776b645",
   "metadata": {},
   "source": [
    "### Since p value is lower than 0.05, we reject the null hypothesis and conclude that both the samples do not have similar distribution.\n",
    "\n",
    "### From the Histogram, we can observe that the smoker group has a considerably normal distribution and non smokers have a skewed distribution.\n",
    "\n",
    "### Hence we assume approximate similarity of both distributions"
   ]
  },
  {
   "cell_type": "code",
   "execution_count": 72,
   "id": "dfdb5f96",
   "metadata": {},
   "outputs": [
    {
     "name": "stdout",
     "output_type": "stream",
     "text": [
      "25.60770019385774\n",
      "7.626446732206901e-116\n"
     ]
    }
   ],
   "source": [
    "# 5. Finding p value at 95% confidence with a significance value of 0.05\n",
    "t_stat,p_value=ttest_ind(hosp_smoker,hosp_nonsmoker,alternative='greater')\n",
    "print(t_stat)\n",
    "print(p_value)"
   ]
  },
  {
   "cell_type": "code",
   "execution_count": 73,
   "id": "9827146d",
   "metadata": {},
   "outputs": [
    {
     "name": "stdout",
     "output_type": "stream",
     "text": [
      "Reject H0\n"
     ]
    }
   ],
   "source": [
    "# 6. Conclusion based on the p value\n",
    "alpha=0.05\n",
    "if p_value< alpha:\n",
    "    print('Reject H0')\n",
    "else:\n",
    "    print('Fail to reject H0')"
   ]
  },
  {
   "cell_type": "markdown",
   "id": "c1161c30",
   "metadata": {},
   "source": [
    "### Based on the 2 sample T-Test, we reject the null hypothesis. So we can confirm that hospitalization charges for smokers are greater than non smokers"
   ]
  },
  {
   "cell_type": "markdown",
   "id": "d534ec66",
   "metadata": {},
   "source": [
    "### 3.2 Testing that the viral load of females is different from that of males"
   ]
  },
  {
   "cell_type": "code",
   "execution_count": 79,
   "id": "eb29968f",
   "metadata": {},
   "outputs": [
    {
     "data": {
      "text/plain": [
       "<AxesSubplot:xlabel='viral load', ylabel='sex'>"
      ]
     },
     "execution_count": 79,
     "metadata": {},
     "output_type": "execute_result"
    },
    {
     "data": {
      "image/png": "[encoded data removed]",
      "text/plain": [
       "<Figure size 432x288 with 1 Axes>"
      ]
     },
     "metadata": {
      "needs_background": "light"
     },
     "output_type": "display_data"
    }
   ],
   "source": [
    "# 1. Visual Analysis\n",
    "sns.boxplot(data=df,y=df['sex'],x=df['viral load'])"
   ]
  },
  {
   "cell_type": "markdown",
   "id": "8bddee00",
   "metadata": {},
   "source": [
    "### The viral load of females and males are almost similar"
   ]
  },
  {
   "cell_type": "markdown",
   "id": "910271ee",
   "metadata": {},
   "source": [
    "#### 2. Hypothesis Formulation\n",
    "#### H0 : The mean viral load is same for both females and males\n",
    "#### Ha : The mean viral load is different for both females and males"
   ]
  },
  {
   "cell_type": "markdown",
   "id": "a94720f8",
   "metadata": {},
   "source": [
    "#### 3. Select the appropriate test\n",
    "#### We are comparing a categorical variable(Sex) against a continous variable(Viral Load) and we have sample data\n",
    "#### So we will be using the 2 sample two tailed T-Test in this case"
   ]
  },
  {
   "cell_type": "markdown",
   "id": "f82bc0f6",
   "metadata": {},
   "source": [
    "#### 4. Check Test assumptions\n",
    "####   1. Data values are independent - True for this dataset\n",
    "####   2. Data is obtained from a random sample in the population - True for this dataset\n",
    "####   3. Data values are continous - Viral load is continous"
   ]
  },
  {
   "cell_type": "code",
   "execution_count": 80,
   "id": "cc0ba0c0",
   "metadata": {},
   "outputs": [
    {
     "name": "stdout",
     "output_type": "stream",
     "text": [
      "0.03224513980982478 0.9022732675989341\n"
     ]
    }
   ],
   "source": [
    "# Check Test Assumptions\n",
    "# 4. Data is normally distributed\n",
    "# Since sample size is higher we will use KS test to check for normality\n",
    "#H0: Both the samples have similar distribution\n",
    "#Ha: Both the samples dont have similar distribution\n",
    "    \n",
    "viral_male=df[df['sex']=='male']['viral load']\n",
    "viral_female=df[df['sex']=='female']['viral load']\n",
    "ks_stat,p_value=kstest(viral_male,viral_female)\n",
    "print(ks_stat,p_value)"
   ]
  },
  {
   "cell_type": "markdown",
   "id": "930c5c87",
   "metadata": {},
   "source": [
    "### Since p value is higher than 0.05, we fail to reject the null hypothesis and conclude that both the samples have similar distribution"
   ]
  },
  {
   "cell_type": "code",
   "execution_count": 81,
   "id": "80509cb7",
   "metadata": {},
   "outputs": [
    {
     "name": "stdout",
     "output_type": "stream",
     "text": [
      "0.5675665685649349\n",
      "0.5704364600211779\n"
     ]
    }
   ],
   "source": [
    "# 5. Finding p value at 95% confidence with a significance value of 0.05\n",
    "t_stat,p_value=ttest_ind(viral_male,viral_female)\n",
    "print(t_stat)\n",
    "print(p_value)"
   ]
  },
  {
   "cell_type": "code",
   "execution_count": 82,
   "id": "818f6d77",
   "metadata": {},
   "outputs": [
    {
     "name": "stdout",
     "output_type": "stream",
     "text": [
      "Fail to reject H0\n"
     ]
    }
   ],
   "source": [
    "# 6. Conclusion based on the p value\n",
    "alpha=0.05\n",
    "if p_value< alpha:\n",
    "    print('Reject H0')\n",
    "else:\n",
    "    print('Fail to reject H0')"
   ]
  },
  {
   "cell_type": "markdown",
   "id": "efd912c5",
   "metadata": {},
   "source": [
    "### Based on the 2 sample T-Test, we fail to reject the null hypothesis. So we can confirm that viral load is similar for both males and females"
   ]
  },
  {
   "cell_type": "markdown",
   "id": "e7322358",
   "metadata": {},
   "source": [
    "### 3.3 Testing that proportion of smoking significantly different across different regions"
   ]
  },
  {
   "cell_type": "code",
   "execution_count": 75,
   "id": "3e0e7ae4",
   "metadata": {},
   "outputs": [
    {
     "data": {
      "text/plain": [
       "<AxesSubplot:xlabel='smoker', ylabel='count'>"
      ]
     },
     "execution_count": 75,
     "metadata": {},
     "output_type": "execute_result"
    },
    {
     "data": {
      "image/png": "[encoded data removed]",
      "text/plain": [
       "<Figure size 432x288 with 1 Axes>"
      ]
     },
     "metadata": {
      "needs_background": "light"
     },
     "output_type": "display_data"
    }
   ],
   "source": [
    "# 1. Visual Analysis\n",
    "sns.countplot(data=df,hue=df['region'],x=df['smoker'])"
   ]
  },
  {
   "cell_type": "markdown",
   "id": "c7e060bb",
   "metadata": {},
   "source": [
    "### The proportion of smokers and non smokers seem to be similar across regions"
   ]
  },
  {
   "cell_type": "markdown",
   "id": "a7ba3952",
   "metadata": {},
   "source": [
    "#### 2. Hypothesis Formulation\n",
    "#### H0 : The proportion of smokers is similar across regions\n",
    "#### Ha : The proportion of smokers is different across regions"
   ]
  },
  {
   "cell_type": "markdown",
   "id": "4b7171e6",
   "metadata": {},
   "source": [
    "#### 3. Select the appropriate test\n",
    "#### We are comparing a categorical variable(Smoker) against another categorical variable(Region)\n",
    "#### So we will be using the Chi Square 2 tailed test in this case"
   ]
  },
  {
   "cell_type": "markdown",
   "id": "069d176f",
   "metadata": {},
   "source": [
    "#### 4. Check Test assumptions\n",
    "####   1. Data values are categorical - True for smoker and region columns in this dataset\n",
    "####   2. Observations are independent - True for this data\n",
    "####   3. Each cell is mutually exclusive - True for this data"
   ]
  },
  {
   "cell_type": "code",
   "execution_count": 76,
   "id": "1687cc89",
   "metadata": {},
   "outputs": [
    {
     "data": {
      "text/html": [
       "<div>\n",
       "<style scoped>\n",
       "    .dataframe tbody tr th:only-of-type {\n",
       "        vertical-align: middle;\n",
       "    }\n",
       "\n",
       "    .dataframe tbody tr th {\n",
       "        vertical-align: top;\n",
       "    }\n",
       "\n",
       "    .dataframe thead th {\n",
       "        text-align: right;\n",
       "    }\n",
       "</style>\n",
       "<table border=\"1\" class=\"dataframe\">\n",
       "  <thead>\n",
       "    <tr style=\"text-align: right;\">\n",
       "      <th>region</th>\n",
       "      <th>northeast</th>\n",
       "      <th>northwest</th>\n",
       "      <th>southeast</th>\n",
       "      <th>southwest</th>\n",
       "    </tr>\n",
       "    <tr>\n",
       "      <th>smoker</th>\n",
       "      <th></th>\n",
       "      <th></th>\n",
       "      <th></th>\n",
       "      <th></th>\n",
       "    </tr>\n",
       "  </thead>\n",
       "  <tbody>\n",
       "    <tr>\n",
       "      <th>no</th>\n",
       "      <td>256</td>\n",
       "      <td>267</td>\n",
       "      <td>267</td>\n",
       "      <td>265</td>\n",
       "    </tr>\n",
       "    <tr>\n",
       "      <th>yes</th>\n",
       "      <td>39</td>\n",
       "      <td>38</td>\n",
       "      <td>34</td>\n",
       "      <td>25</td>\n",
       "    </tr>\n",
       "  </tbody>\n",
       "</table>\n",
       "</div>"
      ],
      "text/plain": [
       "region  northeast  northwest  southeast  southwest\n",
       "smoker                                            \n",
       "no            256        267        267        265\n",
       "yes            39         38         34         25"
      ]
     },
     "execution_count": 76,
     "metadata": {},
     "output_type": "execute_result"
    }
   ],
   "source": [
    "# Check Test Assumptions\n",
    "# 4. Expected value in each cell is greater than 5\n",
    "smoker_region=pd.crosstab(index=df['smoker'],columns=df['region'])\n",
    "smoker_region"
   ]
  },
  {
   "cell_type": "markdown",
   "id": "652828d3",
   "metadata": {},
   "source": [
    "#### From the frequency table, we can see that number of values is greater than 5 for all cells"
   ]
  },
  {
   "cell_type": "code",
   "execution_count": 77,
   "id": "dbc52782",
   "metadata": {},
   "outputs": [
    {
     "name": "stdout",
     "output_type": "stream",
     "text": [
      "3.5220357595425753\n",
      "0.31791538258247287\n",
      "3\n",
      "[[261.31402183 270.17212427 266.62888329 256.88497061]\n",
      " [ 33.68597817  34.82787573  34.37111671  33.11502939]]\n"
     ]
    }
   ],
   "source": [
    "# 5. Finding p value at 95% confidence with a significance value of 0.05\n",
    "chi_stat,p_value,dof,expected=chi2_contingency(smoker_region)\n",
    "print(chi_stat)\n",
    "print(p_value)\n",
    "print(dof)\n",
    "print(expected)"
   ]
  },
  {
   "cell_type": "code",
   "execution_count": 78,
   "id": "d9dd718b",
   "metadata": {},
   "outputs": [
    {
     "name": "stdout",
     "output_type": "stream",
     "text": [
      "Fail to reject H0\n"
     ]
    }
   ],
   "source": [
    "# 6. Conclusion based on the p value\n",
    "alpha=0.05\n",
    "if p_value< alpha:\n",
    "    print('Reject H0')\n",
    "else:\n",
    "    print('Fail to reject H0')"
   ]
  },
  {
   "cell_type": "markdown",
   "id": "539886b0",
   "metadata": {},
   "source": [
    "### Based on the Chisquare test, we fail to reject the null hypothesis. So we can confirm that the proportion of smokers is similar across regions"
   ]
  },
  {
   "cell_type": "markdown",
   "id": "5ab803d6",
   "metadata": {},
   "source": [
    "### 3.4 Testing if mean viral load of women with 0 Severity level, 1 Severity level, and 2 Severity level are the same"
   ]
  },
  {
   "cell_type": "code",
   "execution_count": 87,
   "id": "63ab63ac",
   "metadata": {},
   "outputs": [
    {
     "data": {
      "text/plain": [
       "<AxesSubplot:xlabel='severity level', ylabel='viral load'>"
      ]
     },
     "execution_count": 87,
     "metadata": {},
     "output_type": "execute_result"
    },
    {
     "data": {
      "image/png": "[encoded data removed]",
      "text/plain": [
       "<Figure size 432x288 with 1 Axes>"
      ]
     },
     "metadata": {
      "needs_background": "light"
     },
     "output_type": "display_data"
    }
   ],
   "source": [
    "# 1. Visual Analysis\n",
    "df_test=df[(df['sex']=='female') & (df['severity level']<=2)]\n",
    "sns.boxplot(data=df_test,x=df_test['severity level'],y=df_test['viral load'])"
   ]
  },
  {
   "cell_type": "markdown",
   "id": "ae959669",
   "metadata": {},
   "source": [
    "### The viral load of females with severity level 2 seems slightly higher than other levels"
   ]
  },
  {
   "cell_type": "markdown",
   "id": "21dc9861",
   "metadata": {},
   "source": [
    "#### 2. Hypothesis Formulation\n",
    "#### H0 : The viral load for females is same for all severity levels equal to or less than 2\n",
    "#### Ha : The viral load for females is not same for all severity levels equal to or less than 2"
   ]
  },
  {
   "cell_type": "markdown",
   "id": "205a1748",
   "metadata": {},
   "source": [
    "#### 3. Select the appropriate test\n",
    "#### We are comparing a categorical variable(severity level) with more than 2 categories against a continous variable(viral load)\n",
    "#### So we will be using the one way two tailed ANOVA Test in this case"
   ]
  },
  {
   "cell_type": "markdown",
   "id": "1dc78232",
   "metadata": {},
   "source": [
    "#### 4. Check Test assumptions\n",
    "####   1. Data values are independent - True for this dataset"
   ]
  },
  {
   "cell_type": "code",
   "execution_count": 88,
   "id": "3958df2e",
   "metadata": {},
   "outputs": [
    {
     "name": "stdout",
     "output_type": "stream",
     "text": [
      "0.045715301045791454 0.9817448767754021\n"
     ]
    }
   ],
   "source": [
    "# Check Test Assumptions\n",
    "# 4. Data is normally distributed\n",
    "# Since sample size is higher we will use KS test to check for normality\n",
    "#H0: All the samples have similar distribution\n",
    "#Ha: All the samples dont have similar distribution\n",
    "    \n",
    "df_test_0=df_test[df_test['severity level']==0]['viral load']\n",
    "df_test_1=df_test[df_test['severity level']==1]['viral load']\n",
    "df_test_2=df_test[df_test['severity level']==2]['viral load']\n",
    "ks_stat,p_value=kstest(df_test_0,df_test_1,df_test_2)\n",
    "print(ks_stat,p_value)"
   ]
  },
  {
   "cell_type": "markdown",
   "id": "5b41be2f",
   "metadata": {},
   "source": [
    "### Since p value is higher than 0.05, we fail to reject the null hypothesis and conclude that all the samples have similar distribution"
   ]
  },
  {
   "cell_type": "code",
   "execution_count": 92,
   "id": "798e5d33",
   "metadata": {},
   "outputs": [
    {
     "name": "stdout",
     "output_type": "stream",
     "text": [
      "0.03636576075249481\n",
      "0.9642899920667247\n"
     ]
    }
   ],
   "source": [
    "# 5. Finding p value at 95% confidence with a significance value of 0.05\n",
    "f_stat,p_value=f_oneway(df_test_0,df_test_1,df_test_2)\n",
    "print(f_stat)\n",
    "print(p_value)"
   ]
  },
  {
   "cell_type": "code",
   "execution_count": 90,
   "id": "ad9b7628",
   "metadata": {},
   "outputs": [
    {
     "name": "stdout",
     "output_type": "stream",
     "text": [
      "Fail to reject H0\n"
     ]
    }
   ],
   "source": [
    "# 6. Conclusion based on the p value\n",
    "alpha=0.05\n",
    "if p_value< alpha:\n",
    "    print('Reject H0')\n",
    "else:\n",
    "    print('Fail to reject H0')"
   ]
  },
  {
   "cell_type": "markdown",
   "id": "4bbda659",
   "metadata": {},
   "source": [
    "### Based on the ANOVA test, we fail to reject the null hypothesis. So we can confirm that for females, the mean viral load is similar for severity levels less than or equal to 2"
   ]
  }
 ],
 "metadata": {
  "kernelspec": {
   "display_name": "Python 3 (ipykernel)",
   "language": "python",
   "name": "python3"
  },
  "language_info": {
   "codemirror_mode": {
    "name": "ipython",
    "version": 3
   },
   "file_extension": ".py",
   "mimetype": "text/x-python",
   "name": "python",
   "nbconvert_exporter": "python",
   "pygments_lexer": "ipython3",
   "version": "3.9.12"
  }
 },
 "nbformat": 4,
 "nbformat_minor": 5
}
